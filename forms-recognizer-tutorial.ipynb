{
 "cells": [
  {
   "cell_type": "markdown",
   "metadata": {},
   "source": [
    "## Training a Form Recognizer model and extracting form data (Python)\n",
    "\n",
    "### Before you start\n",
    " \n",
    "Install Python. Do this either via the Microsoft Store (recommended) or via https://www.python.org/downloads/\n",
    "***\n",
    "Install a Python interpreter, preferrably Anaconda via https://www.anaconda.com/distribution/\n",
    "***\n",
    "Install the required modules. To do this:\n",
    "1. Launch the Anaconda prompt\n",
    "2. Run the command `pip install azure`\n",
    "3. Run the command `pip install python-dotenv`\n",
    "***\n",
    "Create your own '.env' file. This is where we will keep all of our secrets required to run this tutorial. To do this:\n",
    "1. Go to your local directory that you are working in.\n",
    "2. Open a Notepad file. On the first line write `KEY=`, on the second `ENDPOINT=`, and the third `SAS_URL=`.\n",
    "3. Save the Notepad file as '.env'\n",
    "***\n",
    "Have data to train your model. You must have either:\n",
    "* A set of at least five forms of the same type. They can be of different file types but must be the same type of document; OR\n",
    "* A single empty form with two filled-in forms. The empty form's file name needs to include the word \"empty\". \n",
    "***\n",
    "\n",
    "### Set up your Form Recognizer resource group\n",
    "Go to the Azure portal (https://portal.azure.com/) and create a new resource group to store your Form Recognizer resource and a storage container. Once you have created the resource group, create a new Form Recognizer resource. Then, create a Storage Account. \n",
    "\n",
    "Now that we have established the resources that we need, we can go ahead and find and save our secrets. \n",
    "\n",
    "#### Saving your key and endpoint values\n",
    "From within you Form Recognizer resource, select the **Quick start** tab to view your subscription data. Save the values **Key** and **Endpoint** to your .env file for the `KEY` and `ENDPOINT` values respectively. \n",
    "\n",
    "#### Saving your SAS URL \n",
    "Navigate to your Storage Account resource. Open the **Storage Explore** tab and right-click on your container. Select **Get shared access signature**. Make sure that the **Read** and **List** permissions are checked, and click **Create**. Then copy the value in the **URL** section and paste this into the `SAS_URL` value within your .env file. Save your .env. \n",
    "\n",
    "***\n",
    "\n",
    "### Running the code \n",
    "We should now be ready to run the below code. The first block imports all the required modules that we need to run the code. The second block confirms that we have access to your .env file. "
   ]
  },
  {
   "cell_type": "code",
   "execution_count": null,
   "metadata": {},
   "outputs": [],
   "source": [
    "import azure, json, os, requests\n",
    "import time\n",
    "from requests import get, post\n",
    "from dotenv import load_dotenv"
   ]
  },
  {
   "cell_type": "code",
   "execution_count": null,
   "metadata": {},
   "outputs": [],
   "source": [
    "load_dotenv(verbose=True)"
   ]
  },
  {
   "cell_type": "markdown",
   "metadata": {},
   "source": [
    "***\n",
    "#### Train a Form Recognizer model\n",
    "The following block of code calls the the **Train Custom Model** API. This will train a Form Recognizer model with the documents that are in your Azure blob container.\n"
   ]
  },
  {
   "cell_type": "code",
   "execution_count": null,
   "metadata": {},
   "outputs": [],
   "source": [
    "########### Python Form Recognizer Labeled Async Train #############\n",
    "\n",
    "# Endpoint URL\n",
    "endpoint = os.getenv(\"ENDPOINT\") \n",
    "post_url = endpoint + r\"/formrecognizer/v2.0-preview/custom/models\"\n",
    "source = os.getenv(\"SAS_URL\")\n",
    "prefix = \"\"\n",
    "includeSubFolders = False\n",
    "useLabelFile = False\n",
    "\n",
    "headers = {\n",
    "    # Request headers\n",
    "    'Content-Type': 'application/json',\n",
    "    'Ocp-Apim-Subscription-Key': os.getenv(\"KEY\"),\n",
    "}\n",
    "\n",
    "body = \t{\n",
    "    \"source\": source,\n",
    "    \"sourceFilter\": {\n",
    "        \"prefix\": prefix,\n",
    "        \"includeSubFolders\": includeSubFolders\n",
    "    },\n",
    "    \"useLabelFile\": useLabelFile\n",
    "}\n",
    "\n",
    "try:\n",
    "    resp = post(url = post_url, json = body, headers = headers)\n",
    "    if resp.status_code != 201:\n",
    "        print(\"POST model failed (%s):\\n%s\" % (resp.status_code, json.dumps(resp.json())))\n",
    "        quit()\n",
    "    print(\"POST model succeeded:\\n%s\" % resp.headers)\n",
    "    get_url = resp.headers[\"location\"]\n",
    "except Exception as e:\n",
    "    print(\"POST model failed:\\n%s\" % str(e))\n",
    "    quit()"
   ]
  },
  {
   "cell_type": "markdown",
   "metadata": {},
   "source": [
    "***\n",
    "#### Get the training results\n",
    "Running the below code will return the results of the training."
   ]
  },
  {
   "cell_type": "code",
   "execution_count": null,
   "metadata": {},
   "outputs": [],
   "source": [
    "n_tries = 15\n",
    "n_try = 0\n",
    "wait_sec = 5\n",
    "max_wait_sec = 60\n",
    "while n_try < n_tries:\n",
    "    try:\n",
    "        resp = get(url = get_url, headers = headers)\n",
    "        resp_json = resp.json()\n",
    "        if resp.status_code != 200:\n",
    "            print(\"GET model failed (%s):\\n%s\" % (resp.status_code, json.dumps(resp_json)))\n",
    "            quit()\n",
    "        model_status = resp_json[\"modelInfo\"][\"status\"]\n",
    "        if model_status == \"ready\":\n",
    "            print(\"Training succeeded:\\n%s\" % json.dumps(resp_json, indent=4, sort_keys=True))\n",
    "            modelID = resp_json[\"modelInfo\"][\"modelId\"]\n",
    "            print(\"ModelID:\\n%s\" % modelID)\n",
    "            break\n",
    "        if model_status == \"invalid\":\n",
    "            print(\"Training failed. Model is invalid:\\n%s\" % json.dumps(resp_json))\n",
    "            quit()\n",
    "        # Training still running. Wait and retry.\n",
    "        time.sleep(wait_sec)\n",
    "        n_try += 1\n",
    "        wait_sec = min(2*wait_sec, max_wait_sec)     \n",
    "    except Exception as e:\n",
    "        msg = \"GET model failed:\\n%s\" % str(e)\n",
    "        print(msg)\n",
    "        quit()"
   ]
  },
  {
   "cell_type": "markdown",
   "metadata": {},
   "source": [
    "***\n",
    "#### Analyse your forms for key-value pairs and tables\n",
    "Now we'll use the newly trained model to analyze a document and extract key-value pairs and tables from it. We do this by calling the **Analyze Form** API. \n",
    "\n",
    "**_Note_**: Edit the paramter `source` within the `\"<your file path>\"` with the file path of the form you would like to analyze. \n",
    "\n",
    "**_Note_**: Confirm that the value for `Content-Type` is correct for your form. Supported types: `application/pdf`, `image\\jpeg`, `image\\png`, `image\\tiff`. \n"
   ]
  },
  {
   "cell_type": "code",
   "execution_count": null,
   "metadata": {},
   "outputs": [],
   "source": [
    "########### Python Form Recognizer Async Analyze #############\n",
    "# Endpoint URL\n",
    "#endpoint = r\"<endpoint>\"\n",
    "apim_key = os.getenv(\"KEY\")\n",
    "#model_id = \"<model_id>\"\n",
    "post_url = endpoint + \"/formrecognizer/v2.0-preview/custom/models/%s/analyze\" % modelID\n",
    "source = r\"C:\\Users\\Kawar\\Documents\\CSIRO Plastics Illegal Fishing\\Form1.png\"\n",
    "params = {\n",
    "    \"includeTextDetails\": True\n",
    "}\n",
    "\n",
    "headers = {\n",
    "    # Request headers\n",
    "    'Content-Type': 'image/png',\n",
    "    'Ocp-Apim-Subscription-Key': apim_key,\n",
    "}\n",
    "with open(source, \"rb\") as f:\n",
    "    data_bytes = f.read()\n",
    "\n",
    "try:\n",
    "    resp = post(url = post_url, data = data_bytes, headers = headers, params = params)\n",
    "    if resp.status_code != 202:\n",
    "        print(\"POST analyze failed:\\n%s\" % json.dumps(resp.json()))\n",
    "        quit()\n",
    "    print(\"POST analyze succeeded:\\n%s\" % resp.headers)\n",
    "    get_url = resp.headers[\"operation-location\"]\n",
    "except Exception as e:\n",
    "    print(\"POST analyze failed:\\n%s\" % str(e))\n",
    "    quit()"
   ]
  },
  {
   "cell_type": "markdown",
   "metadata": {},
   "source": [
    "***\n",
    "#### Get the Analyze results\n",
    "This code returns the analysis results as JSON content. "
   ]
  },
  {
   "cell_type": "code",
   "execution_count": null,
   "metadata": {},
   "outputs": [],
   "source": [
    "n_tries = 15\n",
    "n_try = 0\n",
    "wait_sec = 5\n",
    "max_wait_sec = 60\n",
    "while n_try < n_tries:\n",
    "    try:\n",
    "        resp = get(url = get_url, headers = {\"Ocp-Apim-Subscription-Key\": apim_key})\n",
    "        resp_json = resp.json()\n",
    "        if resp.status_code != 200:\n",
    "            print(\"GET analyze results failed:\\n%s\" % json.dumps(resp_json))\n",
    "            quit()\n",
    "        status = resp_json[\"status\"]\n",
    "        if status == \"succeeded\":\n",
    "            print(\"Analysis succeeded:\\n%s\" % json.dumps(resp_json,indent=4, sort_keys=True))\n",
    "            break\n",
    "        if status == \"failed\":\n",
    "            print(\"Analysis failed:\\n%s\" % json.dumps(resp_json))\n",
    "            quit()\n",
    "        # Analysis still running. Wait and retry.\n",
    "        time.sleep(wait_sec)\n",
    "        n_try += 1\n",
    "        wait_sec = min(2*wait_sec, max_wait_sec)     \n",
    "    except Exception as e:\n",
    "        msg = \"GET analyze results failed:\\n%s\" % str(e)\n",
    "        print(msg)\n",
    "        quit()\n"
   ]
  }
 ],
 "metadata": {
  "kernelspec": {
   "display_name": "Python 3",
   "language": "python",
   "name": "python3"
  },
  "language_info": {
   "codemirror_mode": {
    "name": "ipython",
    "version": 3
   },
   "file_extension": ".py",
   "mimetype": "text/x-python",
   "name": "python",
   "nbconvert_exporter": "python",
   "pygments_lexer": "ipython3",
   "version": "3.7.6"
  }
 },
 "nbformat": 4,
 "nbformat_minor": 4
}
